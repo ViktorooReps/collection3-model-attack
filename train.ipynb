{
 "cells": [
  {
   "cell_type": "code",
   "execution_count": 1,
   "metadata": {},
   "outputs": [
    {
     "name": "stderr",
     "output_type": "stream",
     "text": [
      "2023-03-03 12:43:58.872725: W tensorflow/stream_executor/platform/default/dso_loader.cc:59] Could not load dynamic library 'libcudart.so.10.1'; dlerror: libcudart.so.10.1: cannot open shared object file: No such file or directory\n",
      "2023-03-03 12:43:58.872747: I tensorflow/stream_executor/cuda/cudart_stub.cc:29] Ignore above cudart dlerror if you do not have a GPU set up on your machine.\n"
     ]
    }
   ],
   "source": [
    "from transformers import AutoModelForTokenClassification, AutoTokenizer, Trainer, DataCollatorForTokenClassification, TrainingArguments, Trainer\n",
    "import datasets\n",
    "import evaluate\n",
    "\n",
    "import numpy as np\n",
    "\n",
    "from huggingface_hub import notebook_login"
   ]
  },
  {
   "cell_type": "code",
   "execution_count": 2,
   "metadata": {},
   "outputs": [
    {
     "name": "stderr",
     "output_type": "stream",
     "text": [
      "Found cached dataset collection3 (/home/viktor-sch/.cache/huggingface/datasets/collection3/default/1.0.0/76e3d2db83e2e11c3f99257b9616e9704217d691d6c9ff575e021e1ca1569311)\n"
     ]
    },
    {
     "data": {
      "application/vnd.jupyter.widget-view+json": {
       "model_id": "f0bf22c18d89403db931ce78f8741e6d",
       "version_major": 2,
       "version_minor": 0
      },
      "text/plain": [
       "  0%|          | 0/3 [00:00<?, ?it/s]"
      ]
     },
     "metadata": {},
     "output_type": "display_data"
    },
    {
     "data": {
      "text/plain": [
       "['O', 'B-PER', 'I-PER', 'B-ORG', 'I-ORG', 'B-LOC', 'I-LOC']"
      ]
     },
     "execution_count": 2,
     "metadata": {},
     "output_type": "execute_result"
    }
   ],
   "source": [
    "data = datasets.load_dataset('RCC-MSU/collection3')\n",
    "ner_feature = data[\"train\"].features[\"ner_tags\"]\n",
    "label_names = ner_feature.feature.names\n",
    "label_names"
   ]
  },
  {
   "cell_type": "code",
   "execution_count": 3,
   "metadata": {},
   "outputs": [],
   "source": [
    "id2label = {i: label for i, label in enumerate(label_names)}\n",
    "label2id = {v: k for k, v in id2label.items()}"
   ]
  },
  {
   "cell_type": "code",
   "execution_count": 4,
   "metadata": {},
   "outputs": [
    {
     "name": "stderr",
     "output_type": "stream",
     "text": [
      "Some weights of the model checkpoint at sberbank-ai/ruBert-base were not used when initializing BertForTokenClassification: ['cls.seq_relationship.bias', 'cls.predictions.bias', 'cls.predictions.transform.LayerNorm.bias', 'cls.seq_relationship.weight', 'cls.predictions.transform.dense.weight', 'cls.predictions.transform.LayerNorm.weight', 'cls.predictions.decoder.weight', 'cls.predictions.transform.dense.bias', 'cls.predictions.decoder.bias']\n",
      "- This IS expected if you are initializing BertForTokenClassification from the checkpoint of a model trained on another task or with another architecture (e.g. initializing a BertForSequenceClassification model from a BertForPreTraining model).\n",
      "- This IS NOT expected if you are initializing BertForTokenClassification from the checkpoint of a model that you expect to be exactly identical (initializing a BertForSequenceClassification model from a BertForSequenceClassification model).\n",
      "Some weights of BertForTokenClassification were not initialized from the model checkpoint at sberbank-ai/ruBert-base and are newly initialized: ['classifier.bias', 'classifier.weight']\n",
      "You should probably TRAIN this model on a down-stream task to be able to use it for predictions and inference.\n"
     ]
    }
   ],
   "source": [
    "model = AutoModelForTokenClassification.from_pretrained('sberbank-ai/ruBert-base', id2label=id2label, label2id=label2id)\n",
    "tokenizer = AutoTokenizer.from_pretrained('sberbank-ai/ruBert-base')"
   ]
  },
  {
   "cell_type": "code",
   "execution_count": 5,
   "metadata": {},
   "outputs": [
    {
     "name": "stderr",
     "output_type": "stream",
     "text": [
      "Loading cached processed dataset at /home/viktor-sch/.cache/huggingface/datasets/collection3/default/1.0.0/76e3d2db83e2e11c3f99257b9616e9704217d691d6c9ff575e021e1ca1569311/cache-a1a984ba6c39e742.arrow\n",
      "Loading cached processed dataset at /home/viktor-sch/.cache/huggingface/datasets/collection3/default/1.0.0/76e3d2db83e2e11c3f99257b9616e9704217d691d6c9ff575e021e1ca1569311/cache-950f0ec6be0995e8.arrow\n",
      "Loading cached processed dataset at /home/viktor-sch/.cache/huggingface/datasets/collection3/default/1.0.0/76e3d2db83e2e11c3f99257b9616e9704217d691d6c9ff575e021e1ca1569311/cache-55b748fb52744fe5.arrow\n"
     ]
    }
   ],
   "source": [
    "def align_labels_with_tokens(labels, word_ids):\n",
    "    new_labels = []\n",
    "    current_word = None\n",
    "    for word_id in word_ids:\n",
    "        if word_id != current_word:\n",
    "            # Start of a new word!\n",
    "            current_word = word_id\n",
    "            label = -100 if word_id is None else labels[word_id]\n",
    "            new_labels.append(label)\n",
    "        elif word_id is None:\n",
    "            # Special token\n",
    "            new_labels.append(-100)\n",
    "        else:\n",
    "            # Same word as previous token\n",
    "            label = labels[word_id]\n",
    "            # If the label is B-XXX we change it to I-XXX\n",
    "            if label % 2 == 1:\n",
    "                label += 1\n",
    "            new_labels.append(label)\n",
    "\n",
    "    return new_labels\n",
    "\n",
    "def tokenize_and_align_labels(examples):\n",
    "    tokenized_inputs = tokenizer(\n",
    "        examples[\"tokens\"], truncation=True, is_split_into_words=True\n",
    "    )\n",
    "    all_labels = examples[\"ner_tags\"]\n",
    "    new_labels = []\n",
    "    for i, labels in enumerate(all_labels):\n",
    "        word_ids = tokenized_inputs.word_ids(i)\n",
    "        new_labels.append(align_labels_with_tokens(labels, word_ids))\n",
    "\n",
    "    tokenized_inputs[\"labels\"] = new_labels\n",
    "    return tokenized_inputs\n",
    "\n",
    "tokenized_datasets = data.map(\n",
    "    tokenize_and_align_labels,\n",
    "    batched=True,\n",
    "    remove_columns=data[\"train\"].column_names,\n",
    ")"
   ]
  },
  {
   "cell_type": "code",
   "execution_count": 6,
   "metadata": {},
   "outputs": [],
   "source": [
    "data_collator = DataCollatorForTokenClassification(tokenizer=tokenizer)"
   ]
  },
  {
   "cell_type": "code",
   "execution_count": 7,
   "metadata": {},
   "outputs": [],
   "source": [
    "metric = evaluate.load(\"seqeval\")"
   ]
  },
  {
   "cell_type": "code",
   "execution_count": 8,
   "metadata": {},
   "outputs": [],
   "source": [
    "def compute_metrics(eval_preds):\n",
    "    logits, labels = eval_preds\n",
    "    predictions = np.argmax(logits, axis=-1)\n",
    "\n",
    "    # Remove ignored index (special tokens) and convert to labels\n",
    "    true_labels = [[label_names[l] for l in label if l != -100] for label in labels]\n",
    "    true_predictions = [\n",
    "        [label_names[p] for (p, l) in zip(prediction, label) if l != -100]\n",
    "        for prediction, label in zip(predictions, labels)\n",
    "    ]\n",
    "    all_metrics = metric.compute(predictions=true_predictions, references=true_labels)\n",
    "    return {\n",
    "        \"precision\": all_metrics[\"overall_precision\"],\n",
    "        \"recall\": all_metrics[\"overall_recall\"],\n",
    "        \"f1\": all_metrics[\"overall_f1\"],\n",
    "        \"accuracy\": all_metrics[\"overall_accuracy\"],\n",
    "    }"
   ]
  },
  {
   "cell_type": "code",
   "execution_count": 10,
   "metadata": {},
   "outputs": [
    {
     "name": "stdout",
     "output_type": "stream",
     "text": [
      "Token is valid.\n",
      "Your token has been saved in your configured git credential helpers (store).\n",
      "Your token has been saved to /home/viktor-sch/.cache/huggingface/token\n",
      "Login successful\n"
     ]
    }
   ],
   "source": [
    "notebook_login()"
   ]
  },
  {
   "cell_type": "code",
   "execution_count": 13,
   "metadata": {},
   "outputs": [
    {
     "name": "stderr",
     "output_type": "stream",
     "text": [
      "PyTorch: setting up devices\n",
      "The default value for the training argument `--report_to` will change in v5 (from all installed integrations to none). In v5, you will need to use `--report_to all` to get the same behavior as now. You should start updating your code and make this info disappear :-).\n"
     ]
    }
   ],
   "source": [
    "args = TrainingArguments(\n",
    "    \"sberbank-rubert-base-collection3\",\n",
    "    evaluation_strategy=\"epoch\",\n",
    "    save_strategy=\"epoch\",\n",
    "    per_device_train_batch_size=4,\n",
    "    per_device_eval_batch_size=8,\n",
    "    learning_rate=5e-5,\n",
    "    num_train_epochs=5,\n",
    "    warmup_steps=0.1,\n",
    "    lr_scheduler_type=\"cosine\",\n",
    "    push_to_hub=True,\n",
    ")"
   ]
  },
  {
   "cell_type": "code",
   "execution_count": 14,
   "metadata": {},
   "outputs": [
    {
     "name": "stderr",
     "output_type": "stream",
     "text": [
      "Cloning https://huggingface.co/viktoroo/sberbank-rubert-base-collection3 into local empty directory.\n",
      "/home/viktor-sch/Clones/collection3-model-attack/venv7/lib/python3.7/site-packages/transformers/optimization.py:310: FutureWarning: This implementation of AdamW is deprecated and will be removed in a future version. Use the PyTorch implementation torch.optim.AdamW instead, or set `no_deprecation_warning=True` to disable this warning\n",
      "  FutureWarning,\n",
      "***** Running training *****\n",
      "  Num examples = 9301\n",
      "  Num Epochs = 5\n",
      "  Instantaneous batch size per device = 4\n",
      "  Total train batch size (w. parallel, distributed & accumulation) = 4\n",
      "  Gradient Accumulation steps = 1\n",
      "  Total optimization steps = 11630\n",
      "  Number of trainable parameters = 177722119\n",
      "You're using a BertTokenizerFast tokenizer. Please note that with a fast tokenizer, using the `__call__` method is faster than using a method to encode the text followed by a call to the `pad` method to get a padded encoding.\n"
     ]
    },
    {
     "data": {
      "text/html": [
       "\n",
       "    <div>\n",
       "      \n",
       "      <progress value='11630' max='11630' style='width:300px; height:20px; vertical-align: middle;'></progress>\n",
       "      [11630/11630 18:52, Epoch 5/5]\n",
       "    </div>\n",
       "    <table border=\"1\" class=\"dataframe\">\n",
       "  <thead>\n",
       " <tr style=\"text-align: left;\">\n",
       "      <th>Epoch</th>\n",
       "      <th>Training Loss</th>\n",
       "      <th>Validation Loss</th>\n",
       "      <th>Precision</th>\n",
       "      <th>Recall</th>\n",
       "      <th>F1</th>\n",
       "      <th>Accuracy</th>\n",
       "    </tr>\n",
       "  </thead>\n",
       "  <tbody>\n",
       "    <tr>\n",
       "      <td>1</td>\n",
       "      <td>0.089900</td>\n",
       "      <td>0.075957</td>\n",
       "      <td>0.903977</td>\n",
       "      <td>0.932961</td>\n",
       "      <td>0.918240</td>\n",
       "      <td>0.978725</td>\n",
       "    </tr>\n",
       "    <tr>\n",
       "      <td>2</td>\n",
       "      <td>0.052200</td>\n",
       "      <td>0.067969</td>\n",
       "      <td>0.933026</td>\n",
       "      <td>0.933932</td>\n",
       "      <td>0.933479</td>\n",
       "      <td>0.982127</td>\n",
       "    </tr>\n",
       "    <tr>\n",
       "      <td>3</td>\n",
       "      <td>0.025900</td>\n",
       "      <td>0.074482</td>\n",
       "      <td>0.930830</td>\n",
       "      <td>0.951178</td>\n",
       "      <td>0.940894</td>\n",
       "      <td>0.983774</td>\n",
       "    </tr>\n",
       "    <tr>\n",
       "      <td>4</td>\n",
       "      <td>0.011400</td>\n",
       "      <td>0.073128</td>\n",
       "      <td>0.937218</td>\n",
       "      <td>0.957250</td>\n",
       "      <td>0.947128</td>\n",
       "      <td>0.985713</td>\n",
       "    </tr>\n",
       "    <tr>\n",
       "      <td>5</td>\n",
       "      <td>0.002700</td>\n",
       "      <td>0.077185</td>\n",
       "      <td>0.938019</td>\n",
       "      <td>0.959436</td>\n",
       "      <td>0.948607</td>\n",
       "      <td>0.986042</td>\n",
       "    </tr>\n",
       "  </tbody>\n",
       "</table><p>"
      ],
      "text/plain": [
       "<IPython.core.display.HTML object>"
      ]
     },
     "metadata": {},
     "output_type": "display_data"
    },
    {
     "name": "stderr",
     "output_type": "stream",
     "text": [
      "***** Running Evaluation *****\n",
      "  Num examples = 2153\n",
      "  Batch size = 8\n",
      "Saving model checkpoint to sberbank-rubert-base-collection3/checkpoint-2326\n",
      "Configuration saved in sberbank-rubert-base-collection3/checkpoint-2326/config.json\n",
      "Model weights saved in sberbank-rubert-base-collection3/checkpoint-2326/pytorch_model.bin\n",
      "tokenizer config file saved in sberbank-rubert-base-collection3/checkpoint-2326/tokenizer_config.json\n",
      "Special tokens file saved in sberbank-rubert-base-collection3/checkpoint-2326/special_tokens_map.json\n",
      "tokenizer config file saved in sberbank-rubert-base-collection3/tokenizer_config.json\n",
      "Special tokens file saved in sberbank-rubert-base-collection3/special_tokens_map.json\n",
      "***** Running Evaluation *****\n",
      "  Num examples = 2153\n",
      "  Batch size = 8\n",
      "Saving model checkpoint to sberbank-rubert-base-collection3/checkpoint-4652\n",
      "Configuration saved in sberbank-rubert-base-collection3/checkpoint-4652/config.json\n",
      "Model weights saved in sberbank-rubert-base-collection3/checkpoint-4652/pytorch_model.bin\n",
      "tokenizer config file saved in sberbank-rubert-base-collection3/checkpoint-4652/tokenizer_config.json\n",
      "Special tokens file saved in sberbank-rubert-base-collection3/checkpoint-4652/special_tokens_map.json\n",
      "***** Running Evaluation *****\n",
      "  Num examples = 2153\n",
      "  Batch size = 8\n",
      "Saving model checkpoint to sberbank-rubert-base-collection3/checkpoint-6978\n",
      "Configuration saved in sberbank-rubert-base-collection3/checkpoint-6978/config.json\n",
      "Model weights saved in sberbank-rubert-base-collection3/checkpoint-6978/pytorch_model.bin\n",
      "tokenizer config file saved in sberbank-rubert-base-collection3/checkpoint-6978/tokenizer_config.json\n",
      "Special tokens file saved in sberbank-rubert-base-collection3/checkpoint-6978/special_tokens_map.json\n",
      "***** Running Evaluation *****\n",
      "  Num examples = 2153\n",
      "  Batch size = 8\n",
      "Saving model checkpoint to sberbank-rubert-base-collection3/checkpoint-9304\n",
      "Configuration saved in sberbank-rubert-base-collection3/checkpoint-9304/config.json\n",
      "Model weights saved in sberbank-rubert-base-collection3/checkpoint-9304/pytorch_model.bin\n",
      "tokenizer config file saved in sberbank-rubert-base-collection3/checkpoint-9304/tokenizer_config.json\n",
      "Special tokens file saved in sberbank-rubert-base-collection3/checkpoint-9304/special_tokens_map.json\n",
      "***** Running Evaluation *****\n",
      "  Num examples = 2153\n",
      "  Batch size = 8\n",
      "Saving model checkpoint to sberbank-rubert-base-collection3/checkpoint-11630\n",
      "Configuration saved in sberbank-rubert-base-collection3/checkpoint-11630/config.json\n",
      "Model weights saved in sberbank-rubert-base-collection3/checkpoint-11630/pytorch_model.bin\n",
      "tokenizer config file saved in sberbank-rubert-base-collection3/checkpoint-11630/tokenizer_config.json\n",
      "Special tokens file saved in sberbank-rubert-base-collection3/checkpoint-11630/special_tokens_map.json\n",
      "\n",
      "\n",
      "Training completed. Do not forget to share your model on huggingface.co/models =)\n",
      "\n",
      "\n"
     ]
    },
    {
     "data": {
      "text/plain": [
       "TrainOutput(global_step=11630, training_loss=0.04120228877891678, metrics={'train_runtime': 1133.1573, 'train_samples_per_second': 41.04, 'train_steps_per_second': 10.263, 'total_flos': 1027100378307762.0, 'train_loss': 0.04120228877891678, 'epoch': 5.0})"
      ]
     },
     "execution_count": 14,
     "metadata": {},
     "output_type": "execute_result"
    }
   ],
   "source": [
    "\n",
    "trainer = Trainer(\n",
    "    model=model,\n",
    "    args=args,\n",
    "    train_dataset=tokenized_datasets[\"train\"],\n",
    "    eval_dataset=tokenized_datasets[\"validation\"],\n",
    "    data_collator=data_collator,\n",
    "    compute_metrics=compute_metrics,\n",
    "    tokenizer=tokenizer,\n",
    ")\n",
    "trainer.train()"
   ]
  },
  {
   "cell_type": "code",
   "execution_count": null,
   "metadata": {},
   "outputs": [
    {
     "name": "stderr",
     "output_type": "stream",
     "text": [
      "Saving model checkpoint to sberbank-rubert-base-collection3\n",
      "Configuration saved in sberbank-rubert-base-collection3/config.json\n",
      "Model weights saved in sberbank-rubert-base-collection3/pytorch_model.bin\n",
      "tokenizer config file saved in sberbank-rubert-base-collection3/tokenizer_config.json\n",
      "Special tokens file saved in sberbank-rubert-base-collection3/special_tokens_map.json\n",
      "Several commits (2) will be pushed upstream.\n",
      "The progress bars may be unreliable.\n"
     ]
    },
    {
     "data": {
      "application/vnd.jupyter.widget-view+json": {
       "model_id": "6b9ede2d0579448385389705f85d7dc7",
       "version_major": 2,
       "version_minor": 0
      },
      "text/plain": [
       "Upload file pytorch_model.bin:   0%|          | 32.0k/678M [00:00<?, ?B/s]"
      ]
     },
     "metadata": {},
     "output_type": "display_data"
    },
    {
     "data": {
      "application/vnd.jupyter.widget-view+json": {
       "model_id": "e95354874ee144d999887382bd1d96bd",
       "version_major": 2,
       "version_minor": 0
      },
      "text/plain": [
       "Upload file runs/Mar03_12-56-54_viktor-sch/events.out.tfevents.1677837429.viktor-sch.21172.0: 100%|##########|…"
      ]
     },
     "metadata": {},
     "output_type": "display_data"
    }
   ],
   "source": [
    "trainer.push_to_hub(commit_message=\"Training complete\")"
   ]
  },
  {
   "cell_type": "code",
   "execution_count": null,
   "metadata": {},
   "outputs": [],
   "source": [
    "trainer.evaluate(tokenized_datasets[\"test\"])"
   ]
  },
  {
   "cell_type": "code",
   "execution_count": null,
   "metadata": {},
   "outputs": [],
   "source": []
  }
 ],
 "metadata": {
  "kernelspec": {
   "display_name": "Python 3 (ipykernel)",
   "language": "python",
   "name": "python3"
  },
  "language_info": {
   "codemirror_mode": {
    "name": "ipython",
    "version": 3
   },
   "file_extension": ".py",
   "mimetype": "text/x-python",
   "name": "python",
   "nbconvert_exporter": "python",
   "pygments_lexer": "ipython3",
   "version": "3.7.16"
  }
 },
 "nbformat": 4,
 "nbformat_minor": 1
}
